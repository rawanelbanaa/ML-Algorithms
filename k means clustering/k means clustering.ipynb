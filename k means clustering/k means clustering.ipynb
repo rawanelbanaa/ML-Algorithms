{
 "cells": [
  {
   "cell_type": "code",
   "execution_count": 1,
   "id": "5f51e828",
   "metadata": {},
   "outputs": [],
   "source": [
    "# import modules\n",
    "import numpy as np\n",
    "from scipy.cluster.vq import whiten, kmeans, vq, kmeans2"
   ]
  },
  {
   "cell_type": "code",
   "execution_count": 2,
   "id": "37521aa4",
   "metadata": {},
   "outputs": [
    {
     "name": "stdout",
     "output_type": "stream",
     "text": [
      "[[1.20604538 3.61813613 1.29777137 3.16227766 2.41209076]\n",
      " [2.41209076 3.61813613 0.32444284 3.79473319 3.61813613]\n",
      " [1.20604538 6.03022689 0.64888568 1.8973666  1.20604538]\n",
      " [3.61813613 4.82418151 2.91998558 1.26491106 1.20604538]]\n"
     ]
    }
   ],
   "source": [
    "# observations\n",
    "data = np.array([[1, 3, 4, 5, 2],\n",
    "                 [2, 3, 1, 6, 3],\n",
    "                 [1, 5, 2, 3, 1],\n",
    "                 [3, 4, 9, 2, 1]])\n",
    "  \n",
    "# normalize\n",
    "data = whiten(data)\n",
    "  \n",
    "print(data)"
   ]
  },
  {
   "cell_type": "code",
   "execution_count": 3,
   "id": "ff174e73",
   "metadata": {},
   "outputs": [
    {
     "name": "stdout",
     "output_type": "stream",
     "text": [
      "Code book :\n",
      " [[1.80906807 3.61813613 0.81110711 3.47850543 3.01511345]\n",
      " [3.61813613 4.82418151 2.91998558 1.26491106 1.20604538]\n",
      " [1.20604538 6.03022689 0.64888568 1.8973666  1.20604538]] \n",
      "\n",
      "Mean of Euclidean distances : 0.5158\n"
     ]
    }
   ],
   "source": [
    "# code book generation\n",
    "centroids, mean_value = kmeans(data, 3)\n",
    "  \n",
    "print(\"Code book :\\n\", centroids, \"\\n\")\n",
    "print(\"Mean of Euclidean distances :\", \n",
    "      mean_value.round(4))"
   ]
  },
  {
   "cell_type": "code",
   "execution_count": 4,
   "id": "657bdf3d",
   "metadata": {},
   "outputs": [
    {
     "name": "stdout",
     "output_type": "stream",
     "text": [
      "Cluster index : [0 0 2 1] \n",
      "\n",
      "Distance from the centroids : [1.03155942 1.03155942 0.         0.        ]\n"
     ]
    }
   ],
   "source": [
    "# mapping the centroids\n",
    "clusters, distances = vq(data, centroids)\n",
    "  \n",
    "print(\"Cluster index :\", clusters, \"\\n\")\n",
    "print(\"Distance from the centroids :\", distances)"
   ]
  },
  {
   "cell_type": "code",
   "execution_count": 5,
   "id": "77c441de",
   "metadata": {},
   "outputs": [
    {
     "name": "stdout",
     "output_type": "stream",
     "text": [
      "Centroids :\n",
      " [[1.80906807 3.61813613 0.81110711 3.47850543 3.01511345]\n",
      " [3.61813613 4.82418151 2.91998558 1.26491106 1.20604538]\n",
      " [1.20604538 6.03022689 0.64888568 1.8973666  1.20604538]] \n",
      "\n",
      "Clusters : [0 0 2 1]\n"
     ]
    }
   ],
   "source": [
    "\n",
    "# assign centroids and clusters\n",
    "centroids, clusters = kmeans2(data, 3, \n",
    "                              minit='random')\n",
    "  \n",
    "print(\"Centroids :\\n\", centroids, \"\\n\")\n",
    "print(\"Clusters :\", clusters)"
   ]
  },
  {
   "cell_type": "code",
   "execution_count": 6,
   "id": "db9a6045",
   "metadata": {},
   "outputs": [
    {
     "name": "stdout",
     "output_type": "stream",
     "text": [
      "Data :\n",
      " [[  6.    148.     72.    ...  33.6     0.627  50.   ]\n",
      " [  1.     85.     66.    ...  26.6     0.351  31.   ]\n",
      " [  8.    183.     64.    ...  23.3     0.672  32.   ]\n",
      " ...\n",
      " [  1.    107.     72.    ...  30.8     0.821  24.   ]\n",
      " [  0.    105.     68.    ...  20.      0.236  22.   ]\n",
      " [  1.    109.     60.    ...  25.4     0.947  21.   ]] \n",
      "\n",
      "Code-book :\n",
      " [[0.60969596 3.43971479 3.37845181 1.49778568 0.72397925 3.8769763\n",
      "  1.44468432 2.29822572]\n",
      " [2.06911177 4.08964295 3.90274464 0.96677853 0.5659603  4.05276844\n",
      "  1.32136554 3.89815455]] \n",
      "\n",
      "Clusters :\n",
      " [1 0 1 0 0 1 0 1 1 1 1 1 1 1 1 0 0 1 0 0 0 1 1 1 1 1 1 0 1 1 1 0 0 1 1 0 1\n",
      " 1 0 1 0 1 1 1 1 0 0 0 0 0 0 0 0 1 1 0 1 0 1 0 0 1 0 0 1 0 0 1 0 0 0 0 1 0\n",
      " 0 0 1 0 0 0 0 0 1 0 1 0 1 0 1 0 0 0 1 1 0 1 0 0 0 0 0 0 0 0 0 0 0 0 0 0 0\n",
      " 1 0 0 1 1 1 0 0 0 0 0 0 1 0 0 0 0 0 1 1 1 0 1 0 0 0 0 0 0 1 1 0 1 0 0 1 0\n",
      " 1 0 0 1 1 0 1 1 0 0 0 1 1 1 0 0 0 1 0 1 0 0 1 0 0 0 0 1 1 0 1 1 1 0 0 0 1\n",
      " 1 1 0 0 0 0 1 1 1 1 0 0 0 0 0 0 0 0 0 1 0 1 1 0 1 0 0 1 0 1 1 0 0 0 1 0 1\n",
      " 0 1 0 0 0 0 0 0 0 1 0 0 0 1 1 0 1 0 0 0 0 0 0 1 1 0 1 0 1 0 0 0 1 0 0 0 0\n",
      " 1 1 0 0 1 1 1 0 0 0 0 1 0 1 0 1 0 0 0 1 0 0 1 1 1 1 1 0 0 0 0 0 0 0 0 1 0\n",
      " 0 0 1 1 0 0 0 1 1 0 1 0 0 0 1 0 0 0 1 0 0 1 0 1 0 0 0 1 0 0 0 1 0 1 1 0 0\n",
      " 1 0 0 0 1 1 1 0 0 0 1 1 1 0 0 0 0 0 1 0 0 0 1 0 1 1 0 0 1 1 1 0 0 1 0 0 1\n",
      " 0 0 0 0 0 1 0 0 1 0 0 0 0] \n",
      "\n",
      "No.of.diabetic patients : 147\n",
      "No.of.non-diabetic patients : 236\n"
     ]
    },
    {
     "data": {
      "image/png": "[encoded data removed]",
      "text/plain": [
       "<Figure size 432x288 with 1 Axes>"
      ]
     },
     "metadata": {},
     "output_type": "display_data"
    }
   ],
   "source": [
    "# import modules\n",
    "import matplotlib.pyplot as plt\n",
    "import numpy as np\n",
    "from scipy.cluster.vq import whiten, kmeans, vq\n",
    "  \n",
    "# load the dataset\n",
    "dataset = np.loadtxt(r\"diabetes-train.csv\",\n",
    "                     delimiter=\",\")\n",
    "  \n",
    "# excluding the outcome column\n",
    "dataset = dataset[:, 0:8]\n",
    "  \n",
    "print(\"Data :\\n\", dataset, \"\\n\")\n",
    "  \n",
    "# normalize\n",
    "dataset = whiten(dataset)\n",
    "  \n",
    "# generate code book\n",
    "centroids, mean_dist = kmeans(dataset, 2)\n",
    "print(\"Code-book :\\n\", centroids, \"\\n\")\n",
    "  \n",
    "clusters, dist = vq(dataset, centroids)\n",
    "print(\"Clusters :\\n\", clusters, \"\\n\")\n",
    "# count non-diabetic patients\n",
    "non_diab = list(clusters).count(0)\n",
    "  \n",
    "# count diabetic patients\n",
    "diab = list(clusters).count(1)\n",
    "  \n",
    "# depict illustration\n",
    "x_axis = []\n",
    "x_axis.append(diab)\n",
    "x_axis.append(non_diab)\n",
    "  \n",
    "colors = ['green', 'orange']\n",
    "  \n",
    "print(\"No.of.diabetic patients : \" + str(x_axis[0]) +\n",
    "      \"\\nNo.of.non-diabetic patients : \" + str(x_axis[1]))\n",
    "  \n",
    "y = ['diabetic', 'non-diabetic']\n",
    "  \n",
    "plt.pie(x_axis, labels=y, colors=colors, shadow='true')\n",
    "plt.show()"
   ]
  },
  {
   "cell_type": "code",
   "execution_count": null,
   "id": "13aaea3c",
   "metadata": {},
   "outputs": [],
   "source": []
  }
 ],
 "metadata": {
  "kernelspec": {
   "display_name": "Python 3",
   "language": "python",
   "name": "python3"
  },
  "language_info": {
   "codemirror_mode": {
    "name": "ipython",
    "version": 3
   },
   "file_extension": ".py",
   "mimetype": "text/x-python",
   "name": "python",
   "nbconvert_exporter": "python",
   "pygments_lexer": "ipython3",
   "version": "3.8.8"
  }
 },
 "nbformat": 4,
 "nbformat_minor": 5
}
